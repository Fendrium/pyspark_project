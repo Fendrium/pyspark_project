{
 "cells": [
  {
   "cell_type": "code",
   "execution_count": 1,
   "outputs": [
    {
     "name": "stdout",
     "output_type": "stream",
     "text": [
      "Requirement already satisfied: polars in ./.venv/lib/python3.11/site-packages (0.20.19)\r\n",
      "Requirement already satisfied: pyspark in ./.venv/lib/python3.11/site-packages (3.5.1)\r\n",
      "Requirement already satisfied: py4j==0.10.9.7 in ./.venv/lib/python3.11/site-packages (from pyspark) (0.10.9.7)\r\n"
     ]
    }
   ],
   "source": [
    "!pip install polars pyspark\n",
    "\n",
    "# Project file structure\n",
    "# .\n",
    "# ├── README.txt\n",
    "# ├── clean_data.ipynb\n",
    "# ├── clean_data.py\n",
    "# └── data\n",
    "#     ├── output\n",
    "#     ├── raw\n",
    "#     │ └── log20170201.csv\n",
    "#     └── staging\n",
    "#         └── clean_data.csv"
   ],
   "metadata": {
    "collapsed": false,
    "ExecuteTime": {
     "end_time": "2024-04-10T08:28:38.117871Z",
     "start_time": "2024-04-10T08:28:37.083502Z"
    }
   }
  },
  {
   "cell_type": "code",
   "execution_count": 2,
   "outputs": [],
   "source": [
    "import polars as pl\n",
    "\n",
    "# Load data in polars datframe\n",
    "po = pl.read_csv('data/raw/log20170201.csv')\n",
    "\n",
    "# Create datetime column from date and time\n",
    "po = po.with_columns(\n",
    "    pl.concat_str(\n",
    "        [pl.col(\"date\"), pl.col(\"time\")]\n",
    "    , separator=\" \",\n",
    "    )\n",
    "    .str.to_datetime()\n",
    "    .alias(\"datetime\"),\n",
    ")\n",
    "# Rename extention to extension\n",
    "po = po.rename({\"extention\": \"extension\"})\n",
    "\n",
    "# Reorder columns and remove previous date and time columns, and columns unused in further analysis\n",
    "po = po.select([\n",
    "     \"ip\",\n",
    "     \"datetime\",\n",
    "     'extension',\n",
    "     'size',\n",
    "])\n",
    "# Save data in staging\n",
    "po.write_csv(\"data/staging/clean_data.csv\")"
   ],
   "metadata": {
    "collapsed": false,
    "ExecuteTime": {
     "end_time": "2024-04-10T08:28:50.558596Z",
     "start_time": "2024-04-10T08:28:38.119523Z"
    }
   }
  },
  {
   "cell_type": "code",
   "execution_count": 3,
   "metadata": {
    "collapsed": true,
    "ExecuteTime": {
     "end_time": "2024-04-10T08:28:54.928122Z",
     "start_time": "2024-04-10T08:28:50.559558Z"
    }
   },
   "outputs": [
    {
     "name": "stderr",
     "output_type": "stream",
     "text": [
      "24/04/10 17:28:51 WARN Utils: Your hostname, Electric-Red-MacBook-Pro.local resolves to a loopback address: 127.0.0.1; using 10.87.217.204 instead (on interface en0)\n",
      "24/04/10 17:28:51 WARN Utils: Set SPARK_LOCAL_IP if you need to bind to another address\n",
      "Setting default log level to \"WARN\".\n",
      "To adjust logging level use sc.setLogLevel(newLevel). For SparkR, use setLogLevel(newLevel).\n",
      "24/04/10 17:28:51 WARN NativeCodeLoader: Unable to load native-hadoop library for your platform... using builtin-java classes where applicable\n",
      "24/04/10 17:28:52 WARN Utils: Service 'SparkUI' could not bind on port 4040. Attempting port 4041.\n",
      "24/04/10 17:28:52 WARN Utils: Service 'SparkUI' could not bind on port 4041. Attempting port 4042.\n"
     ]
    }
   ],
   "source": [
    "from pyspark.sql import SparkSession\n",
    "import pyspark.sql.functions as fn\n",
    "\n",
    "# Init spark session and load CSV data into spark dataframe\n",
    "spark = (\n",
    "    SparkSession\n",
    "    .builder\n",
    "    .appName(\"Pyspark Session\")\n",
    "    .config(\"spark.memory.offHeap.enabled\", \"true\")\n",
    "    .config(\"spark.memory.offHeap.size\",\"10g\")\n",
    "    .getOrCreate()\n",
    ")\n",
    "df = spark.read.csv(\"data/staging/clean_data.csv\", header=True)"
   ]
  },
  {
   "cell_type": "code",
   "execution_count": 4,
   "outputs": [
    {
     "name": "stderr",
     "output_type": "stream",
     "text": [
      "[Stage 1:====================================================>    (11 + 1) / 12]\r"
     ]
    },
    {
     "name": "stdout",
     "output_type": "stream",
     "text": [
      "+----------+-------------+------------------------------------------+--------------+---------------+\n",
      "|session_id|ip           |session_window                            |total_filesize|total_downloads|\n",
      "+----------+-------------+------------------------------------------+--------------+---------------+\n",
      "|0         |1.115.247.aag|{2017-02-01 15:27:39, 2017-02-01 15:57:39}|96193.0       |1              |\n",
      "|1         |1.123.152.eaj|{2017-02-01 23:57:32, 2017-02-02 00:27:32}|5173701.0     |1              |\n",
      "|2         |1.123.153.bgg|{2017-02-01 23:06:36, 2017-02-01 23:36:36}|94842.0       |1              |\n",
      "|3         |1.124.48.jhf |{2017-02-01 09:11:54, 2017-02-01 09:41:54}|4117.0        |1              |\n",
      "|4         |1.124.48.jie |{2017-02-01 01:43:07, 2017-02-01 02:13:07}|3522.0        |1              |\n",
      "|5         |1.128.97.abf |{2017-02-01 22:37:42, 2017-02-01 23:08:58}|436842.0      |2              |\n",
      "|6         |1.136.96.bbi |{2017-02-01 13:57:37, 2017-02-01 14:27:37}|10610.0       |1              |\n",
      "|7         |1.136.97.jda |{2017-02-01 19:45:03, 2017-02-01 20:15:03}|5238.0        |1              |\n",
      "|8         |1.144.96.aag |{2017-02-01 08:51:31, 2017-02-01 09:21:31}|2082.0        |1              |\n",
      "|9         |1.144.96.jdi |{2017-02-01 06:50:20, 2017-02-01 07:25:54}|5990.0        |5              |\n",
      "|10        |1.144.97.edc |{2017-02-01 09:07:51, 2017-02-01 09:37:51}|23038.0       |1              |\n",
      "|11        |1.152.97.abb |{2017-02-01 02:27:05, 2017-02-01 02:57:05}|7385.0        |1              |\n",
      "|12        |1.152.97.abb |{2017-02-01 22:41:26, 2017-02-01 23:11:26}|323269.0      |1              |\n",
      "|13        |1.160.24.caf |{2017-02-01 21:05:14, 2017-02-01 21:35:14}|10787.0       |1              |\n",
      "|14        |1.162.78.gfj |{2017-02-01 08:22:44, 2017-02-01 09:15:50}|221748.0      |4              |\n",
      "|15        |1.180.206.jjh|{2017-02-01 08:49:55, 2017-02-01 09:19:55}|644.0         |1              |\n",
      "|16        |1.180.212.aej|{2017-02-01 02:30:19, 2017-02-01 03:00:33}|22962.0       |2              |\n",
      "|17        |1.180.215.cic|{2017-02-01 12:47:18, 2017-02-01 13:17:18}|4131.0        |1              |\n",
      "|18        |1.180.235.gcd|{2017-02-01 02:09:57, 2017-02-01 02:39:57}|3320.0        |1              |\n",
      "|19        |1.180.235.gcd|{2017-02-01 05:24:48, 2017-02-01 05:54:48}|11503.0       |1              |\n",
      "+----------+-------------+------------------------------------------+--------------+---------------+\n",
      "only showing top 20 rows\n",
      "\n"
     ]
    },
    {
     "name": "stderr",
     "output_type": "stream",
     "text": [
      "                                                                                \r"
     ]
    }
   ],
   "source": [
    "# Convert datetime to timestamp\n",
    "df_timestamp = df.withColumn(\"timestamp\", fn.to_timestamp(\"datetime\", \"yyyy-MM-dd HH:mm:ss\"))\n",
    "\n",
    "# Sessionize by 30 minute window for each ip address\n",
    "# Also Aggregate filesize and file extension\n",
    "sessions = (\n",
    "    df_timestamp\n",
    "    .withWatermark(\"datetime\", \"30 minutes\")\n",
    "    .groupBy(\"ip\", fn.session_window(\"datetime\",\"30 minutes\"))\n",
    "    .agg(fn.sum(\"size\").alias(\"total_filesize\"), fn.count(\"extension\").alias\n",
    "(\"total_downloads\"))\n",
    "    .alias(\"num_connections_in_session\")\n",
    ")\n",
    "sessions = sessions.withColumn(\"session_id\", fn.monotonically_increasing_id())\n",
    "sessions = sessions.select(\n",
    "    \"session_id\",\n",
    "    \"ip\",\n",
    "    \"session_window\",\n",
    "    \"total_filesize\",\n",
    "    \"total_downloads\")\n",
    "sessions.show(truncate = False)"
   ],
   "metadata": {
    "collapsed": false,
    "ExecuteTime": {
     "end_time": "2024-04-10T08:29:04.291223Z",
     "start_time": "2024-04-10T08:28:54.929528Z"
    }
   }
  },
  {
   "cell_type": "code",
   "execution_count": 5,
   "outputs": [
    {
     "name": "stderr",
     "output_type": "stream",
     "text": [
      "24/04/10 17:29:07 WARN GarbageCollectionMetrics: To enable non-built-in garbage collector(s) List(G1 Concurrent GC), users should configure it(them) to spark.eventLog.gcMetrics.youngGenerationGarbageCollectors or spark.eventLog.gcMetrics.oldGenerationGarbageCollectors\n",
      "[Stage 4:===============================================>         (10 + 2) / 12]\r"
     ]
    },
    {
     "name": "stdout",
     "output_type": "stream",
     "text": [
      "+-----------+---------------+--------------------+----------------+---------------+\n",
      "| session_id|             ip|      session_window|  total_filesize|total_downloads|\n",
      "+-----------+---------------+--------------------+----------------+---------------+\n",
      "|60129545457|130.238.165.jda|{2017-02-01 17:33...|2.32727971591E11|          35856|\n",
      "|51539621692| 54.160.235.hji|{2017-02-01 00:00...|1.99631949425E11|          63338|\n",
      "|42949684684| 205.156.84.cef|{2017-02-01 00:29...|1.13748288293E11|          12572|\n",
      "|60129545186| 128.138.64.edf|{2017-02-01 00:00...| 9.1248945065E10|         200912|\n",
      "|34359753386|   54.69.84.iji|{2017-02-01 09:30...| 8.7162904211E10|         107058|\n",
      "|      13182|  54.84.100.jga|{2017-02-01 14:01...| 5.7959667905E10|         125945|\n",
      "|25769818479|    52.8.47.hbf|{2017-02-01 19:00...| 4.9454094002E10|          51093|\n",
      "|      13181|  54.84.100.jga|{2017-02-01 03:56...| 4.6276299204E10|          77353|\n",
      "|25769805137| 108.39.205.jga|{2017-02-01 01:31...| 4.3127442896E10|         240763|\n",
      "|51539625799|  72.79.127.fbb|{2017-02-01 14:23...| 4.1972749059E10|          24827|\n",
      "+-----------+---------------+--------------------+----------------+---------------+\n",
      "only showing top 10 rows\n",
      "\n"
     ]
    },
    {
     "name": "stderr",
     "output_type": "stream",
     "text": [
      "                                                                                \r"
     ]
    }
   ],
   "source": [
    "# top 10 sessions by total size of downloaded documents\n",
    "sessions.sort(fn.col(\"total_filesize\").desc()).show(10)"
   ],
   "metadata": {
    "collapsed": false,
    "ExecuteTime": {
     "end_time": "2024-04-10T08:29:12.818787Z",
     "start_time": "2024-04-10T08:29:04.293455Z"
    }
   }
  },
  {
   "cell_type": "code",
   "execution_count": 6,
   "outputs": [
    {
     "name": "stderr",
     "output_type": "stream",
     "text": [
      "[Stage 7:===============================================>         (10 + 2) / 12]\r"
     ]
    },
    {
     "name": "stdout",
     "output_type": "stream",
     "text": [
      "+-----------+---------------+--------------------+---------------+---------------+\n",
      "| session_id|             ip|      session_window| total_filesize|total_downloads|\n",
      "+-----------+---------------+--------------------+---------------+---------------+\n",
      "|17179871924|130.101.154.hhj|{2017-02-01 00:00...|2.1910193809E10|        2214095|\n",
      "|17179881439|  54.152.17.ccg|{2017-02-01 00:00...|   2.84386158E9|        1244430|\n",
      "|25769821628| 68.180.231.abf|{2017-02-01 00:00...|  4.984942651E9|         706111|\n",
      "|17179878659|217.174.255.dgd|{2017-02-01 00:01...|3.6495901717E10|         574257|\n",
      "|34359741842| 138.19.163.aca|{2017-02-01 14:56...|    3.1456605E9|         438989|\n",
      "| 8589952514| 72.234.116.hbh|{2017-02-01 00:00...|  7.375972345E9|         337605|\n",
      "|60129545417|  13.93.154.hjh|{2017-02-01 03:50...|    6.7317976E8|         337070|\n",
      "|51539609062|  108.91.91.hbc|{2017-02-01 11:01...|  5.105233169E9|         312716|\n",
      "|68719477917|  52.119.57.ajg|{2017-02-01 00:00...|  1.487874837E9|         294287|\n",
      "|60129550265| 198.199.84.bfb|{2017-02-01 00:00...|  1.293865991E9|         285827|\n",
      "+-----------+---------------+--------------------+---------------+---------------+\n",
      "only showing top 10 rows\n",
      "\n"
     ]
    },
    {
     "name": "stderr",
     "output_type": "stream",
     "text": [
      "                                                                                \r"
     ]
    }
   ],
   "source": [
    "# top 10 sessions by total number of downloaded documents\n",
    "sessions.sort(fn.col(\"total_downloads\").desc()).show(10)"
   ],
   "metadata": {
    "collapsed": false,
    "ExecuteTime": {
     "end_time": "2024-04-10T08:29:21.534282Z",
     "start_time": "2024-04-10T08:29:12.819376Z"
    }
   }
  }
 ],
 "metadata": {
  "kernelspec": {
   "display_name": "Python 3",
   "language": "python",
   "name": "python3"
  },
  "language_info": {
   "codemirror_mode": {
    "name": "ipython",
    "version": 2
   },
   "file_extension": ".py",
   "mimetype": "text/x-python",
   "name": "python",
   "nbconvert_exporter": "python",
   "pygments_lexer": "ipython2",
   "version": "2.7.6"
  }
 },
 "nbformat": 4,
 "nbformat_minor": 0
}
